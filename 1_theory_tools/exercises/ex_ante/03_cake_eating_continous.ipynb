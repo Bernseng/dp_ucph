{
 "cells": [
  {
   "cell_type": "code",
   "execution_count": 1,
   "metadata": {},
   "outputs": [],
   "source": [
    "# magics: ensures that any changes to the modules loaded below will be re-loaded automatically\n",
    "%load_ext autoreload\n",
    "%autoreload 2\n",
    "\n",
    "# load packages\n",
    "import numpy as np\n",
    "import matplotlib.pyplot as plt\n",
    "plt.style.use('seaborn-whitegrid')"
   ]
  },
  {
   "cell_type": "markdown",
   "metadata": {},
   "source": [
    "# Exercise 3 [L2]: Interpolation and continuous choice "
   ]
  },
  {
   "cell_type": "markdown",
   "metadata": {},
   "source": [
    "Consider the following Python code to create do linear interpolation:"
   ]
  },
  {
   "cell_type": "code",
   "execution_count": 2,
   "metadata": {},
   "outputs": [],
   "source": [
    "f = lambda x: (x-3)**2 #Define the function to be interpolated\n",
    "\n",
    "x_interp  = np.linspace(0,6,100) #Define the points at which the function will be interpolated\n",
    "f_true  = f(x_interp) #Define the true function values at the interpolation points\n",
    "x_known = np.array([0,1,2,3,4,5,6],dtype=float) #Define points at which the function is known\n",
    "f_known = f(x_known) #Define the function values at the known points\n",
    "f_linear_interp      = np.interp(x_interp,x_known,f_known) #Linear interpolation between known function values"
   ]
  },
  {
   "cell_type": "markdown",
   "metadata": {},
   "source": [
    "### 1. Plot the true function, the known points and the linearly interpolated function in a single figure."
   ]
  },
  {
   "cell_type": "code",
   "execution_count": 3,
   "metadata": {},
   "outputs": [
    {
     "data": {
      "image/png": "[encoded data removed]",
      "text/plain": [
       "<Figure size 720x288 with 1 Axes>"
      ]
     },
     "metadata": {},
     "output_type": "display_data"
    }
   ],
   "source": [
    "fig = plt.figure(figsize=(10,4)) \n",
    "\n",
    "ax = fig.add_subplot(1,1,1)\n",
    "ax.plot(x_interp,f_true)\n",
    "ax.plot(x_interp,f_linear_interp,'black')\n",
    "ax.scatter(x_known,f_known)\n",
    "\n",
    "ax.set_xlabel(\"x\")\n",
    "ax.set_ylabel(\"$f(x)$\")\n",
    "plt.legend(('True','linear interp','known nodes'))\n",
    "\n",
    "plt.show()"
   ]
  },
  {
   "attachments": {},
   "cell_type": "markdown",
   "metadata": {},
   "source": [
    "Consider the consumption-saving model with *continous* consumption choice and *infinite time* horizon:\n",
    "$$\\begin{align*}\n",
    "    V_{t}(W_{t}) & = \\max_{c_{t}}\\left\\{ \\sqrt{c_{t}}+\\beta V_{t+1}(W_{t+1})\\right\\} \\\\\n",
    " & \\text{s.t.}\\\\\n",
    "W_{t+1} & = W_{t}-c_{t} \\\\\n",
    "c_{t} & \\leq  W_{t} , \\,\\forall t\\\\\n",
    "c_{t} & \\in  \\mathbb{R}_+, \\,\\forall t\n",
    "\\end{align*}$$\n",
    "for $\\beta=0.90$ and $W_{1}=10$."
   ]
  },
  {
   "cell_type": "markdown",
   "metadata": {},
   "source": [
    "### 2. Solve the model using *value function iteration*, *grid search*, and *linear interpolation*."
   ]
  },
  {
   "attachments": {},
   "cell_type": "markdown",
   "metadata": {},
   "source": [
    "Hint: For each possible wealth level (w) we choose consumption as a share of that wealth (). "
   ]
  },
  {
   "cell_type": "code",
   "execution_count": 4,
   "metadata": {},
   "outputs": [
    {
     "ename": "IndentationError",
     "evalue": "expected an indented block (Exercise_3.py, line 31)",
     "output_type": "error",
     "traceback": [
      "Traceback \u001b[0;36m(most recent call last)\u001b[0m:\n",
      "  File \u001b[1;32m~/.local/lib/python3.9/site-packages/IPython/core/interactiveshell.py:3251\u001b[0m in \u001b[1;35mrun_code\u001b[0m\n    exec(code_obj, self.user_global_ns, self.user_ns)\n",
      "\u001b[0;36m  Input \u001b[0;32mIn [4]\u001b[0;36m in \u001b[0;35m<module>\u001b[0;36m\u001b[0m\n\u001b[0;31m    import Exercise_3 as ex3\u001b[0m\n",
      "\u001b[0;36m  File \u001b[0;32m~/dp_ucph/1_theory_tools/exercises/ex_ante/Exercise_3.py:31\u001b[0;36m\u001b[0m\n\u001b[0;31m    delta = np.amax(np.abs(sol.V - V_next))\u001b[0m\n\u001b[0m    ^\u001b[0m\n\u001b[0;31mIndentationError\u001b[0m\u001b[0;31m:\u001b[0m expected an indented block\n"
     ]
    }
   ],
   "source": [
    "# load modules related to this exercise\n",
    "import Exercise_3 as ex3\n",
    "\n",
    "# Setup specifications in class. Defining a class is a neat way to access the parameters.\n",
    "class par: pass\n",
    "par.beta = 0.90\n",
    "par.W = 10\n",
    "\n",
    "# Grid\n",
    "par.num_W = 200 # number of grid points for W\n",
    "par.num_C = 50 # number of grid points for the choice space of C\n",
    "par.grid_W = np.linspace(0.0,par.W,par.num_W) # grid for W\n",
    "\n",
    "# Parameters for VFI\n",
    "par.max_iter = 200   # maximum number of iterations\n",
    "par.tol = 10e-5 #convergence tol. level\n",
    "\n",
    "# Solve the model\n",
    "sol = ex3.solve_consumption_grid_search(par)"
   ]
  },
  {
   "cell_type": "markdown",
   "metadata": {},
   "source": [
    "### 3. Plot $V(W)$ (the value function) and $C^{\\star}(W)$ (the consumption function). *Ensure that both function are increasing in $W$*. Compare the results to those found in the last exercise. - try changing the number of points in the state grid and consumption guess grid."
   ]
  },
  {
   "cell_type": "code",
   "execution_count": null,
   "metadata": {},
   "outputs": [],
   "source": [
    "# define figure\n",
    "def plot_solution(par,sol):\n",
    "    fig = plt.figure(figsize=(10,4)) # figsize is in inches...\n",
    "    \n",
    "    grid_W = par.grid_W\n",
    "\n",
    "    ax = fig.add_subplot(1,2,1)\n",
    "    ax.scatter(grid_W,sol.V)\n",
    "    ax.set_xlabel(\"$W$\")\n",
    "    ax.set_ylabel(\"$V$\")\n",
    "\n",
    "    ax_right = fig.add_subplot(1,2,2)\n",
    "    ax_right.scatter(grid_W,sol.C)\n",
    "    ax_right.set_xlabel(\"$W$\")\n",
    "    ax_right.set_ylabel(\"$C$\")\n",
    "    plt.show()\n",
    "    \n",
    "plot_solution(par,sol)"
   ]
  },
  {
   "cell_type": "code",
   "execution_count": null,
   "metadata": {},
   "outputs": [],
   "source": [
    "# compare the solution with the last excercise\n",
    "\n",
    "#re-run ex2:\n",
    "import Exercise_2 as ex2\n",
    "class par_ex2: pass\n",
    "par_ex2.beta = 0.90\n",
    "par_ex2.W = 10\n",
    "par_ex2.grid_W = np.arange(par_ex2.W+1)\n",
    "\n",
    "\n",
    "# Parameters for VFI\n",
    "par_ex2.max_iter = 200   # maximum number of iterations\n",
    "par_ex2.tol = 10e-5 #convergence tol. level\n",
    "\n",
    "sol_ex2 = ex2.solve_VFI(par_ex2)\n",
    "\n",
    "\n",
    "#Plot the figures\n",
    "fig = plt.figure(figsize=(10,4)) \n",
    "ax = fig.add_subplot(1,2,1)\n",
    "ax.scatter(par.grid_W,sol.V)\n",
    "ax.scatter(par_ex2.grid_W,sol_ex2.V)\n",
    "ax.set_xlabel(\"$W$\")\n",
    "ax.set_ylabel(\"$V$\")\n",
    "plt.legend(('Exercise3','Exercise2'))\n",
    "\n",
    "\n",
    "ax_right = fig.add_subplot(1,2,2)\n",
    "ax_right.scatter(par.grid_W,sol.C)\n",
    "ax_right.scatter(par_ex2.grid_W,sol_ex2.C)\n",
    "ax_right.set_xlabel(\"$W$\")\n",
    "ax_right.set_ylabel(\"$C$\")\n",
    "plt.legend(('Exercise3','Exercise2'))\n",
    "\n",
    "print('    Compare the results from Exercise 2 and Exercise 3:')\n",
    "plt.show()"
   ]
  },
  {
   "cell_type": "code",
   "execution_count": null,
   "metadata": {},
   "outputs": [],
   "source": [
    "# change the number of points\n",
    "class par_alt(par): pass # inherit from par\n",
    "par_alt.num_W = 200\n",
    "par_alt.num_C = 50\n",
    "par_alt.grid_W = np.linspace(0.0,par_alt.W,par_alt.num_W)\n",
    "\n",
    "sol_alt = ex3.solve_consumption_grid_search(par_alt)\n",
    "\n",
    "print('Number of state grid points:', par_alt.num_W)\n",
    "print('Number of consumption guess grid:', par_alt.num_C)\n",
    "\n",
    "#Plot the figures\n",
    "fig = plt.figure(figsize=(10,4)) \n",
    "ax = fig.add_subplot(1,2,1)\n",
    "ax.scatter(par.grid_W,sol.V)\n",
    "ax.scatter(par_alt.grid_W,sol_alt.V)\n",
    "ax.set_xlabel(\"$W$\")\n",
    "ax.set_ylabel(\"$V$\")\n",
    "plt.legend((f'     Original: num_W = {par.num_W}, num_C = {par.num_C}',f'Alternative: num_W = {par_alt.num_W}, num_C = {par_alt.num_C}'))\n",
    "\n",
    "\n",
    "ax_right = fig.add_subplot(1,2,2)\n",
    "ax_right.scatter(par.grid_W,sol.C)\n",
    "ax_right.scatter(par_alt.grid_W,sol_alt.C)\n",
    "ax_right.set_xlabel(\"$W$\")\n",
    "ax_right.set_ylabel(\"$C$\")\n",
    "plt.legend((f'     Original: num_W = {par.num_W}, num_C = {par.num_C}',f'Alternative: num_W = {par_alt.num_W}, num_C = {par_alt.num_C}'))\n",
    "\n",
    "plt.show()"
   ]
  }
 ],
 "metadata": {
  "kernelspec": {
   "display_name": "enrich",
   "language": "python",
   "name": "python3"
  },
  "language_info": {
   "codemirror_mode": {
    "name": "ipython",
    "version": 3
   },
   "file_extension": ".py",
   "mimetype": "text/x-python",
   "name": "python",
   "nbconvert_exporter": "python",
   "pygments_lexer": "ipython3",
   "version": "3.9.7"
  },
  "vscode": {
   "interpreter": {
    "hash": "652caba9b984f1a074f68d10bb109b635896b25dff423f59685a6a489a7f7243"
   }
  }
 },
 "nbformat": 4,
 "nbformat_minor": 4
}
